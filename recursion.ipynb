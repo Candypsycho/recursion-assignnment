{
  "nbformat": 4,
  "nbformat_minor": 0,
  "metadata": {
    "colab": {
      "provenance": []
    },
    "kernelspec": {
      "name": "python3",
      "display_name": "Python 3"
    },
    "language_info": {
      "name": "python"
    }
  },
  "cells": [
    {
      "cell_type": "code",
      "source": [],
      "metadata": {
        "id": "g4DkSl0imtPP"
      },
      "execution_count": null,
      "outputs": []
    },
    {
      "cell_type": "code",
      "execution_count": 1,
      "metadata": {
        "colab": {
          "base_uri": "https://localhost:8080/"
        },
        "id": "1KVmCcx1bgf5",
        "outputId": "dc3d47b7-be76-4792-d23f-bfe9478d8261"
      },
      "outputs": [
        {
          "output_type": "stream",
          "name": "stdout",
          "text": [
            "move disk 1 from rod A to rod C\n",
            "move disk 1 from rod 2 to rod A\n",
            "move disk 1 from rod C to rod B\n",
            "move disk 1 from rod 3 to rod A\n",
            "move disk 1 from rod B to rod A\n",
            "move disk 1 from rod 2 to rod B\n",
            "move disk 1 from rod A to rod C\n"
          ]
        }
      ],
      "source": [
        "### tower of hanoi\n",
        "def toh(numbers,start,aux,end):\n",
        "  if numbers==1:\n",
        "    print('move disk 1 from rod {} to rod {}'.format(start,end))\n",
        "    return\n",
        "  else:\n",
        "    toh(numbers-1,start,end,aux)\n",
        "    print('move disk 1 from rod {} to rod {}'.format(numbers,start,end))\n",
        "    toh(numbers-1,aux,start,end)\n",
        "###\n",
        "disk=3\n",
        "toh(disk,'A','B',\"C\")"
      ]
    },
    {
      "cell_type": "code",
      "source": [
        "## Q. 3 Print the max value of the array\n",
        "def maximum(arr):\n",
        "  max=arr[0]\n",
        "  for a in arr:\n",
        "    if a > max:\n",
        "      max=a\n",
        "  return max\n",
        "## driver code\n",
        "arr=[ 13, 1, -3, 22, 5]\n",
        "result=maximum(arr)\n",
        "print(result)"
      ],
      "metadata": {
        "colab": {
          "base_uri": "https://localhost:8080/"
        },
        "id": "9tBwnJTzeo6J",
        "outputId": "e0ffd64d-2722-4ebe-ef08-4b4e05812ff7"
      },
      "execution_count": 7,
      "outputs": [
        {
          "output_type": "stream",
          "name": "stdout",
          "text": [
            "22\n"
          ]
        }
      ]
    },
    {
      "cell_type": "code",
      "source": [
        "# Q.4 Find the sum of the values of the array\n",
        "def summation(arr):\n",
        "  result=0\n",
        "  for i in arr:\n",
        "    result=result+i\n",
        "  return result\n",
        "\n",
        "## driver code\n",
        "arr=[92, 23, 15, -20, 10]\n",
        "result=summation(arr)\n",
        "print(result)"
      ],
      "metadata": {
        "colab": {
          "base_uri": "https://localhost:8080/"
        },
        "id": "esyw-cPFfZsu",
        "outputId": "dc516117-dba6-438f-a68e-ba32c0b53a37"
      },
      "execution_count": 3,
      "outputs": [
        {
          "output_type": "stream",
          "name": "stdout",
          "text": [
            "120\n"
          ]
        }
      ]
    },
    {
      "cell_type": "code",
      "source": [],
      "metadata": {
        "colab": {
          "base_uri": "https://localhost:8080/"
        },
        "id": "3nWqFP_YgLrK",
        "outputId": "ad6b2eb1-b9ff-45a3-b0bc-3ceee9f2bb46"
      },
      "execution_count": 5,
      "outputs": [
        {
          "output_type": "execute_result",
          "data": {
            "text/plain": [
              "120"
            ]
          },
          "metadata": {},
          "execution_count": 5
        }
      ]
    },
    {
      "cell_type": "code",
      "source": [
        "#Given a number n. Print if it is an armstrong number or not.An armstrong number is a number if the sum\n",
        "#f every digit in that number raised to the power of total digits in that number is equal to the number.\n",
        "i=int(input(\"enter number to check for armstrong\"))\n",
        "orig=i\n",
        "sum=0\n",
        "while (i>0):\n",
        "  sum=sum + (i % 10) * (i % 10) * (i % 10)\n",
        "  i=i//10\n",
        "if orig==sum:\n",
        "  print('number is armstrong')\n",
        "else:\n",
        "  print('number is not armstrong')"
      ],
      "metadata": {
        "colab": {
          "base_uri": "https://localhost:8080/"
        },
        "id": "jYegYIlQgRW1",
        "outputId": "725e8c8c-853b-43aa-e38f-5c354d298d5f"
      },
      "execution_count": 11,
      "outputs": [
        {
          "output_type": "stream",
          "name": "stdout",
          "text": [
            "enter number to check for armstrong 153\n",
            "number is armstrong\n"
          ]
        }
      ]
    },
    {
      "cell_type": "code",
      "source": [
        "#Given a number n. Print if it is an armstrong number or not.An armstrong number is a number if the sum\n",
        "#f every digit in that number raised to the power of total digits in that number is equal to the number.\n",
        "i=int(input(\"enter number to check for armstrong\"))\n",
        "orig=i\n",
        "sum=0\n",
        "while (i>0):\n",
        "  sum=sum + (i % 10) * (i % 10) * (i % 10)\n",
        "  i=i//10\n",
        "if orig==sum:\n",
        "  print('number is armstrong')\n",
        "else:\n",
        "  print('number is not armstrong')"
      ],
      "metadata": {
        "colab": {
          "base_uri": "https://localhost:8080/"
        },
        "id": "xnMH7gagmVn9",
        "outputId": "795f95a2-c8e2-4db5-bbb8-6513fc940c7c"
      },
      "execution_count": 12,
      "outputs": [
        {
          "output_type": "stream",
          "name": "stdout",
          "text": [
            "enter number to check for armstrong 134\n",
            "number is not armstrong\n"
          ]
        }
      ]
    },
    {
      "cell_type": "code",
      "source": [],
      "metadata": {
        "id": "4PjE8DPGneTm"
      },
      "execution_count": null,
      "outputs": []
    }
  ]
}